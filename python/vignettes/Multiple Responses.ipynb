{
 "cells": [
  {
   "cell_type": "code",
   "execution_count": 1,
   "metadata": {},
   "outputs": [
    {
     "name": "stderr",
     "output_type": "stream",
     "text": [
      "/usr/lib/python3.6/site-packages/statsmodels/compat/pandas.py:56: FutureWarning: The pandas.core.datetools module is deprecated and will be removed in a future version. Please use the pandas.tseries module instead.\n",
      "  from pandas.core import datetools\n"
     ]
    }
   ],
   "source": [
    "import rfcde\n",
    "import numpy as np\n",
    "import matplotlib.pyplot as plt"
   ]
  },
  {
   "cell_type": "markdown",
   "metadata": {},
   "source": [
    "RFCDE extends to multiple response variables to estimate joint conditional densities.  Consider data from the following model\n",
    "\n",
    "\\begin{eqnarray}\n",
    "X &\\sim& U(0, 1) \\\\\n",
    "Z_{1} &\\sim& U(0, X) \\\\\n",
    "Z_{2} &\\sim& U(X, Z_{1})\n",
    "\\end{eqnarray}\n",
    "\n",
    "This exhibits dependence not only between the responses and the covariates, but also between the responses themselves. Thus merely estimating the univariate conditional densities would lose the information about the dependence between $Z_{1}$ and $Z_{2}$."
   ]
  },
  {
   "cell_type": "code",
   "execution_count": 2,
   "metadata": {},
   "outputs": [],
   "source": [
    "np.random.seed(42)\n",
    "\n",
    "def generate_data(n):\n",
    "    x = np.random.uniform(0, 1, (n, 1))\n",
    "    z1 = np.random.uniform(0, x[:,0], n)\n",
    "    z2 = np.random.uniform(z1, x[:,0], n)\n",
    "    return x, np.array([z1, z2]).T\n",
    "\n",
    "n_train = 10000\n",
    "x_train, z_train = generate_data(n_train)\n",
    "x_test = np.array([0.3, 0.6, 0.9])"
   ]
  },
  {
   "cell_type": "markdown",
   "metadata": {},
   "source": [
    "## Training\n",
    "Training is the same as for the univariate case.  A tensor basis is used for the density estimates at each node; you can specify the number of basis functions for each dimension or just specify a single number which is applied to every dimension.  Note that this scales like $n^d$ for $n$ basis functions in $d$ dimensions."
   ]
  },
  {
   "cell_type": "code",
   "execution_count": 3,
   "metadata": {},
   "outputs": [],
   "source": [
    "n_trees = 100\n",
    "mtry = 1\n",
    "node_size = 20\n",
    "n_basis = [15, 15] # or 15\n",
    "\n",
    "forest = rfcde.RFCDE(n_trees=n_trees, mtry=mtry, node_size=node_size, n_basis=n_basis)\n",
    "forest.train(x_train, z_train)"
   ]
  },
  {
   "cell_type": "markdown",
   "metadata": {},
   "source": [
    "## Prediction\n",
    "Prediction requires a multivariate grid of points at which to evaluate the density. Bandwidths can be specified by a covariance matrix, a float (which scales the identity covariance) or a string (see documentation for details)."
   ]
  },
  {
   "cell_type": "code",
   "execution_count": 4,
   "metadata": {},
   "outputs": [],
   "source": [
    "bandwidth = 0.05\n",
    "n_grid = 30\n",
    "z1, z2 = np.meshgrid(np.linspace(0, 1, n_grid),\n",
    "                     np.linspace(0, 1, n_grid))\n",
    "z_grid = np.array([z1.flatten(), z2.flatten()]).T\n",
    "x_test = np.array([0.3])\n",
    "density = forest.predict(x_test, z_grid, bandwidth)"
   ]
  },
  {
   "cell_type": "code",
   "execution_count": 5,
   "metadata": {},
   "outputs": [
    {
     "data": {
      "image/png": "[encoded data removed]",
      "text/plain": [
       "<Figure size 432x288 with 1 Axes>"
      ]
     },
     "metadata": {},
     "output_type": "display_data"
    }
   ],
   "source": [
    "plt.contourf(np.linspace(0, 1, n_grid),\n",
    "            np.linspace(0, 1, n_grid),\n",
    "            density.reshape((n_grid, n_grid)))\n",
    "plt.plot([0, x_test, 0, 0], [0, x_test, x_test, 0], color='white')\n",
    "plt.show()"
   ]
  }
 ],
 "metadata": {
  "kernelspec": {
   "display_name": "Python 3",
   "language": "python",
   "name": "python3"
  },
  "language_info": {
   "codemirror_mode": {
    "name": "ipython",
    "version": 3
   },
   "file_extension": ".py",
   "mimetype": "text/x-python",
   "name": "python",
   "nbconvert_exporter": "python",
   "pygments_lexer": "ipython3",
   "version": "3.6.5"
  }
 },
 "nbformat": 4,
 "nbformat_minor": 2
}
